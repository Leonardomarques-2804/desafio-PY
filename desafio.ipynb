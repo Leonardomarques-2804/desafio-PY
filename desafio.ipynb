{
  "nbformat": 4,
  "nbformat_minor": 0,
  "metadata": {
    "colab": {
      "provenance": [],
      "authorship_tag": "ABX9TyNQ+q4wK9JcEACGMP+OwlM9",
      "include_colab_link": true
    },
    "kernelspec": {
      "name": "python3",
      "display_name": "Python 3"
    },
    "language_info": {
      "name": "python"
    }
  },
  "cells": [
    {
      "cell_type": "markdown",
      "metadata": {
        "id": "view-in-github",
        "colab_type": "text"
      },
      "source": [
        "<a href=\"https://colab.research.google.com/github/Leonardomarques-2804/desafio-PY/blob/main/desafio.ipynb\" target=\"_parent\"><img src=\"https://colab.research.google.com/assets/colab-badge.svg\" alt=\"Open In Colab\"/></a>"
      ]
    },
    {
      "cell_type": "markdown",
      "source": [
        "##Desafio 1 - Você possui algumas variáveis em Python que descrevem alguns dos seus atributos. Com base nessas variáveis, gere uma apresentação curta de si mesmo:"
      ],
      "metadata": {
        "id": "gXUGAR3xEsFW"
      }
    },
    {
      "cell_type": "code",
      "source": [
        "nome = \"Leonardo\"\n",
        "idade = 19\n",
        "cidade = \"Santo andré\"\n",
        "\n",
        "print(\"Olá meu nome é\", nome, \"tenho \", idade, \"anos e moro em\", cidade)"
      ],
      "metadata": {
        "colab": {
          "base_uri": "https://localhost:8080/"
        },
        "id": "aElbgHLcEuve",
        "outputId": "fb9ff90c-f7e3-45c5-902c-97f2a7565ce7"
      },
      "execution_count": null,
      "outputs": [
        {
          "output_type": "stream",
          "name": "stdout",
          "text": [
            "Olá meu nome é Leonardo tenho  19 anos e moro em Santo andré\n"
          ]
        }
      ]
    },
    {
      "cell_type": "markdown",
      "source": [
        "##Desafio 2 - Dada uma lista de números em Python, Calcule a média dos valores dessa lista:"
      ],
      "metadata": {
        "id": "9FvFyiweF8ZY"
      }
    },
    {
      "cell_type": "code",
      "source": [
        "numeros = [10, 20, 30, 40, 50]\n",
        "\n",
        "media = sum(numeros) / 5\n",
        "print(media)"
      ],
      "metadata": {
        "colab": {
          "base_uri": "https://localhost:8080/"
        },
        "id": "J8GNxAQpF_85",
        "outputId": "0fba33df-d1f7-4c42-c54b-9b9dcb88f478"
      },
      "execution_count": null,
      "outputs": [
        {
          "output_type": "stream",
          "name": "stdout",
          "text": [
            "30.0\n"
          ]
        }
      ]
    },
    {
      "cell_type": "markdown",
      "source": [
        "##Desafio 3 - Você possui duas listas de Python. Cada lista representa os gastos do mês de dois amigos, João e Pedro. Cada valor na lista representa o gasto em uma das semanas do mês. Seu objetivo é encontrar quem gastou mais dinheiro ao longo do mês, João ou Pedro. Para isso, crie um código em Python que responda a essa pergunta."
      ],
      "metadata": {
        "id": "496cFhqkIMN6"
      }
    },
    {
      "cell_type": "code",
      "source": [
        "gastos_joao = [300,500,200,800]\n",
        "gastos_pedro = [200,400,500,700]\n",
        "\n",
        "mediajoao = sum(gastos_joao)\n",
        "print(mediajoao)\n",
        "\n",
        "mediapedro = sum(gastos_pedro)\n",
        "print(mediapedro)\n",
        "\n",
        "if(mediajoao > mediapedro):\n",
        "\n",
        "  print(\"João gastou mais que o pedro\")\n",
        "\n",
        "elif(mediapedro > mediajoao):\n",
        " print(\"pedro gastou mais que o joao\")\n",
        "\n",
        "else:\n",
        "  print(\"os dois gastaram igual\")\n"
      ],
      "metadata": {
        "colab": {
          "base_uri": "https://localhost:8080/"
        },
        "id": "QrZ7IRUFINVa",
        "outputId": "8877a40d-43df-4e0d-efe4-abdce2d730f0"
      },
      "execution_count": null,
      "outputs": [
        {
          "output_type": "stream",
          "name": "stdout",
          "text": [
            "1800\n",
            "1800\n",
            "os dois gastaram igual\n"
          ]
        }
      ]
    },
    {
      "cell_type": "code",
      "source": [],
      "metadata": {
        "id": "78njTcpMJqBU"
      },
      "execution_count": null,
      "outputs": []
    }
  ]
}